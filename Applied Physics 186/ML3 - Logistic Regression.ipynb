{
 "cells": [
  {
   "cell_type": "markdown",
   "metadata": {},
   "source": [
    "# Logistic Regression"
   ]
  },
  {
   "cell_type": "code",
   "execution_count": 1,
   "metadata": {},
   "outputs": [],
   "source": [
    "import pandas as pd\n",
    "import numpy as np\n",
    "import matplotlib.pyplot as plt\n",
    "import seaborn as sns\n",
    "\n",
    "sns.set_style(\"darkgrid\")"
   ]
  },
  {
   "cell_type": "code",
   "execution_count": 2,
   "metadata": {},
   "outputs": [
    {
     "data": {
      "text/html": [
       "<div>\n",
       "<style scoped>\n",
       "    .dataframe tbody tr th:only-of-type {\n",
       "        vertical-align: middle;\n",
       "    }\n",
       "\n",
       "    .dataframe tbody tr th {\n",
       "        vertical-align: top;\n",
       "    }\n",
       "\n",
       "    .dataframe thead th {\n",
       "        text-align: right;\n",
       "    }\n",
       "</style>\n",
       "<table border=\"1\" class=\"dataframe\">\n",
       "  <thead>\n",
       "    <tr style=\"text-align: right;\">\n",
       "      <th></th>\n",
       "      <th>Image</th>\n",
       "      <th>R</th>\n",
       "      <th>G</th>\n",
       "      <th>B</th>\n",
       "      <th>Ripeness</th>\n",
       "    </tr>\n",
       "  </thead>\n",
       "  <tbody>\n",
       "    <tr>\n",
       "      <th>0</th>\n",
       "      <td>1</td>\n",
       "      <td>247.277</td>\n",
       "      <td>235.203</td>\n",
       "      <td>203.795</td>\n",
       "      <td>1</td>\n",
       "    </tr>\n",
       "    <tr>\n",
       "      <th>1</th>\n",
       "      <td>2</td>\n",
       "      <td>242.005</td>\n",
       "      <td>227.006</td>\n",
       "      <td>162.201</td>\n",
       "      <td>1</td>\n",
       "    </tr>\n",
       "    <tr>\n",
       "      <th>2</th>\n",
       "      <td>3</td>\n",
       "      <td>176.264</td>\n",
       "      <td>181.173</td>\n",
       "      <td>158.842</td>\n",
       "      <td>0</td>\n",
       "    </tr>\n",
       "    <tr>\n",
       "      <th>3</th>\n",
       "      <td>4</td>\n",
       "      <td>187.179</td>\n",
       "      <td>194.187</td>\n",
       "      <td>170.547</td>\n",
       "      <td>0</td>\n",
       "    </tr>\n",
       "    <tr>\n",
       "      <th>4</th>\n",
       "      <td>5</td>\n",
       "      <td>237.265</td>\n",
       "      <td>225.627</td>\n",
       "      <td>197.295</td>\n",
       "      <td>1</td>\n",
       "    </tr>\n",
       "  </tbody>\n",
       "</table>\n",
       "</div>"
      ],
      "text/plain": [
       "   Image        R        G        B  Ripeness\n",
       "0      1  247.277  235.203  203.795         1\n",
       "1      2  242.005  227.006  162.201         1\n",
       "2      3  176.264  181.173  158.842         0\n",
       "3      4  187.179  194.187  170.547         0\n",
       "4      5  237.265  225.627  197.295         1"
      ]
     },
     "execution_count": 2,
     "metadata": {},
     "output_type": "execute_result"
    }
   ],
   "source": [
    "data = pd.read_excel('ML1_dataset.xlsx',sheet_name='ML3 - Banana')\n",
    "data.head()"
   ]
  },
  {
   "cell_type": "code",
   "execution_count": 3,
   "metadata": {},
   "outputs": [
    {
     "data": {
      "text/plain": [
       "1    21\n",
       "0    21\n",
       "Name: Ripeness, dtype: int64"
      ]
     },
     "execution_count": 3,
     "metadata": {},
     "output_type": "execute_result"
    }
   ],
   "source": [
    "data['Ripeness'].value_counts()"
   ]
  },
  {
   "cell_type": "code",
   "execution_count": 4,
   "metadata": {},
   "outputs": [],
   "source": [
    "#normalize features\n",
    "data['R'] = data['R']/255\n",
    "data['G'] = data['G']/255\n",
    "data['B'] = data['B']/255"
   ]
  },
  {
   "cell_type": "code",
   "execution_count": 5,
   "metadata": {},
   "outputs": [
    {
     "data": {
      "text/html": [
       "<div>\n",
       "<style scoped>\n",
       "    .dataframe tbody tr th:only-of-type {\n",
       "        vertical-align: middle;\n",
       "    }\n",
       "\n",
       "    .dataframe tbody tr th {\n",
       "        vertical-align: top;\n",
       "    }\n",
       "\n",
       "    .dataframe thead th {\n",
       "        text-align: right;\n",
       "    }\n",
       "</style>\n",
       "<table border=\"1\" class=\"dataframe\">\n",
       "  <thead>\n",
       "    <tr style=\"text-align: right;\">\n",
       "      <th></th>\n",
       "      <th>Image</th>\n",
       "      <th>R</th>\n",
       "      <th>G</th>\n",
       "      <th>B</th>\n",
       "      <th>Ripeness</th>\n",
       "    </tr>\n",
       "  </thead>\n",
       "  <tbody>\n",
       "    <tr>\n",
       "      <th>0</th>\n",
       "      <td>1</td>\n",
       "      <td>0.969714</td>\n",
       "      <td>0.922365</td>\n",
       "      <td>0.799196</td>\n",
       "      <td>1</td>\n",
       "    </tr>\n",
       "    <tr>\n",
       "      <th>1</th>\n",
       "      <td>2</td>\n",
       "      <td>0.949039</td>\n",
       "      <td>0.890220</td>\n",
       "      <td>0.636082</td>\n",
       "      <td>1</td>\n",
       "    </tr>\n",
       "    <tr>\n",
       "      <th>2</th>\n",
       "      <td>3</td>\n",
       "      <td>0.691231</td>\n",
       "      <td>0.710482</td>\n",
       "      <td>0.622910</td>\n",
       "      <td>0</td>\n",
       "    </tr>\n",
       "    <tr>\n",
       "      <th>3</th>\n",
       "      <td>4</td>\n",
       "      <td>0.734035</td>\n",
       "      <td>0.761518</td>\n",
       "      <td>0.668812</td>\n",
       "      <td>0</td>\n",
       "    </tr>\n",
       "    <tr>\n",
       "      <th>4</th>\n",
       "      <td>5</td>\n",
       "      <td>0.930451</td>\n",
       "      <td>0.884812</td>\n",
       "      <td>0.773706</td>\n",
       "      <td>1</td>\n",
       "    </tr>\n",
       "    <tr>\n",
       "      <th>5</th>\n",
       "      <td>6</td>\n",
       "      <td>0.697047</td>\n",
       "      <td>0.614486</td>\n",
       "      <td>0.394533</td>\n",
       "      <td>1</td>\n",
       "    </tr>\n",
       "    <tr>\n",
       "      <th>6</th>\n",
       "      <td>7</td>\n",
       "      <td>0.773522</td>\n",
       "      <td>0.839506</td>\n",
       "      <td>0.671106</td>\n",
       "      <td>0</td>\n",
       "    </tr>\n",
       "    <tr>\n",
       "      <th>7</th>\n",
       "      <td>8</td>\n",
       "      <td>0.631867</td>\n",
       "      <td>0.593824</td>\n",
       "      <td>0.357459</td>\n",
       "      <td>1</td>\n",
       "    </tr>\n",
       "    <tr>\n",
       "      <th>8</th>\n",
       "      <td>9</td>\n",
       "      <td>0.893443</td>\n",
       "      <td>0.895733</td>\n",
       "      <td>0.704047</td>\n",
       "      <td>0</td>\n",
       "    </tr>\n",
       "    <tr>\n",
       "      <th>9</th>\n",
       "      <td>10</td>\n",
       "      <td>0.947004</td>\n",
       "      <td>0.896431</td>\n",
       "      <td>0.669286</td>\n",
       "      <td>1</td>\n",
       "    </tr>\n",
       "  </tbody>\n",
       "</table>\n",
       "</div>"
      ],
      "text/plain": [
       "   Image         R         G         B  Ripeness\n",
       "0      1  0.969714  0.922365  0.799196         1\n",
       "1      2  0.949039  0.890220  0.636082         1\n",
       "2      3  0.691231  0.710482  0.622910         0\n",
       "3      4  0.734035  0.761518  0.668812         0\n",
       "4      5  0.930451  0.884812  0.773706         1\n",
       "5      6  0.697047  0.614486  0.394533         1\n",
       "6      7  0.773522  0.839506  0.671106         0\n",
       "7      8  0.631867  0.593824  0.357459         1\n",
       "8      9  0.893443  0.895733  0.704047         0\n",
       "9     10  0.947004  0.896431  0.669286         1"
      ]
     },
     "execution_count": 5,
     "metadata": {},
     "output_type": "execute_result"
    }
   ],
   "source": [
    "data.head(10)"
   ]
  },
  {
   "cell_type": "markdown",
   "metadata": {},
   "source": [
    "### Split into training and test datasets"
   ]
  },
  {
   "cell_type": "code",
   "execution_count": 6,
   "metadata": {},
   "outputs": [
    {
     "name": "stdout",
     "output_type": "stream",
     "text": [
      "Train dataset: (30, 5)\n",
      "Test dataset: (12, 5)\n"
     ]
    }
   ],
   "source": [
    "train_set = data.sample(30)\n",
    "train_expected = np.array(train_set['Ripeness']).reshape(-1,1)\n",
    "\n",
    "test_set = data.drop(train_set.index,axis=0)\n",
    "test_expected = np.array(test_set['Ripeness']).reshape(-1,1)\n",
    "\n",
    "print('Train dataset:',train_set.shape)\n",
    "print('Test dataset:',test_set.shape)"
   ]
  },
  {
   "cell_type": "markdown",
   "metadata": {},
   "source": [
    "### Train Set Feature Vector"
   ]
  },
  {
   "cell_type": "code",
   "execution_count": 7,
   "metadata": {},
   "outputs": [
    {
     "name": "stdout",
     "output_type": "stream",
     "text": [
      "(30, 4)\n",
      "(30, 1)\n"
     ]
    }
   ],
   "source": [
    "#change into feature array\n",
    "num_features = 4\n",
    "feature = np.ones((len(train_set),num_features))\n",
    "feature[:,1:] = train_set[['R','G','B']].to_numpy(dtype=float)\n",
    "\n",
    "print(feature.shape)\n",
    "print(train_expected.shape)"
   ]
  },
  {
   "cell_type": "code",
   "execution_count": 8,
   "metadata": {},
   "outputs": [],
   "source": [
    "def sigmoid(z,beta):\n",
    "    sigmoid = 1 / (1 + np.exp(-beta*z))\n",
    "    return sigmoid"
   ]
  },
  {
   "cell_type": "code",
   "execution_count": 9,
   "metadata": {},
   "outputs": [],
   "source": [
    "def logistic_regression(X,expected,beta,num_iterations,learning_constant):\n",
    "    \n",
    "    #initialize weight\n",
    "    w = np.random.randn(1,X.shape[1])\n",
    "    \n",
    "    cost = []\n",
    "    #calculate logistic regression\n",
    "    for i in range(num_iterations):\n",
    "        z = np.dot(X,w.T)\n",
    "        \n",
    "        #apply activation function\n",
    "        a = sigmoid(z,beta)\n",
    "        \n",
    "        #calculate weight change\n",
    "        dw = learning_constant * np.dot((expected-a).T,X)\n",
    "        \n",
    "        cost_func = 0.5*np.sum((a-expected)**2)\n",
    "        cost.append(cost_func)\n",
    "        \n",
    "        if i == num_iterations-1:\n",
    "            print(cost_func)\n",
    "        \n",
    "        #update weight\n",
    "        w += dw\n",
    "        \n",
    "    return a, w, cost"
   ]
  },
  {
   "cell_type": "code",
   "execution_count": 10,
   "metadata": {},
   "outputs": [
    {
     "name": "stdout",
     "output_type": "stream",
     "text": [
      "2.7476320616276526\n",
      "w shape: (1, 4)\n"
     ]
    }
   ],
   "source": [
    "a_train, w, cost = logistic_regression(feature,train_expected,0.2,1000,0.1)\n",
    "print(\"w shape:\",w.shape)"
   ]
  },
  {
   "cell_type": "code",
   "execution_count": 11,
   "metadata": {},
   "outputs": [
    {
     "data": {
      "text/html": [
       "<div>\n",
       "<style scoped>\n",
       "    .dataframe tbody tr th:only-of-type {\n",
       "        vertical-align: middle;\n",
       "    }\n",
       "\n",
       "    .dataframe tbody tr th {\n",
       "        vertical-align: top;\n",
       "    }\n",
       "\n",
       "    .dataframe thead th {\n",
       "        text-align: right;\n",
       "    }\n",
       "</style>\n",
       "<table border=\"1\" class=\"dataframe\">\n",
       "  <thead>\n",
       "    <tr style=\"text-align: right;\">\n",
       "      <th></th>\n",
       "      <th>predicted</th>\n",
       "      <th>expected</th>\n",
       "    </tr>\n",
       "  </thead>\n",
       "  <tbody>\n",
       "    <tr>\n",
       "      <th>15</th>\n",
       "      <td>0.459466</td>\n",
       "      <td>0.0</td>\n",
       "    </tr>\n",
       "    <tr>\n",
       "      <th>8</th>\n",
       "      <td>0.718896</td>\n",
       "      <td>1.0</td>\n",
       "    </tr>\n",
       "    <tr>\n",
       "      <th>6</th>\n",
       "      <td>0.699989</td>\n",
       "      <td>1.0</td>\n",
       "    </tr>\n",
       "    <tr>\n",
       "      <th>1</th>\n",
       "      <td>0.241731</td>\n",
       "      <td>0.0</td>\n",
       "    </tr>\n",
       "    <tr>\n",
       "      <th>29</th>\n",
       "      <td>0.540884</td>\n",
       "      <td>1.0</td>\n",
       "    </tr>\n",
       "    <tr>\n",
       "      <th>23</th>\n",
       "      <td>0.420830</td>\n",
       "      <td>0.0</td>\n",
       "    </tr>\n",
       "    <tr>\n",
       "      <th>11</th>\n",
       "      <td>0.710170</td>\n",
       "      <td>1.0</td>\n",
       "    </tr>\n",
       "    <tr>\n",
       "      <th>22</th>\n",
       "      <td>0.736208</td>\n",
       "      <td>1.0</td>\n",
       "    </tr>\n",
       "    <tr>\n",
       "      <th>20</th>\n",
       "      <td>0.627307</td>\n",
       "      <td>1.0</td>\n",
       "    </tr>\n",
       "    <tr>\n",
       "      <th>10</th>\n",
       "      <td>0.645134</td>\n",
       "      <td>0.0</td>\n",
       "    </tr>\n",
       "  </tbody>\n",
       "</table>\n",
       "</div>"
      ],
      "text/plain": [
       "    predicted  expected\n",
       "15   0.459466       0.0\n",
       "8    0.718896       1.0\n",
       "6    0.699989       1.0\n",
       "1    0.241731       0.0\n",
       "29   0.540884       1.0\n",
       "23   0.420830       0.0\n",
       "11   0.710170       1.0\n",
       "22   0.736208       1.0\n",
       "20   0.627307       1.0\n",
       "10   0.645134       0.0"
      ]
     },
     "execution_count": 11,
     "metadata": {},
     "output_type": "execute_result"
    }
   ],
   "source": [
    "output_train = pd.DataFrame([a_train.flatten(),train_expected.flatten()],index=['predicted','expected']).T\n",
    "output_train.sample(10)"
   ]
  },
  {
   "cell_type": "code",
   "execution_count": 12,
   "metadata": {},
   "outputs": [],
   "source": [
    "def accuracy(X,y,w,beta,threshold):\n",
    "    \n",
    "    z = np.dot(X,w.T)\n",
    "    a = sigmoid(z,beta)\n",
    "\n",
    "    train_output = pd.DataFrame([a.flatten(),y.flatten()],index=['predicted','expected']).T\n",
    "    true_pos = train_output[(train_output.predicted > threshold) & (train_output.expected == 1)]\n",
    "    true_neg = train_output[(train_output.predicted < threshold) & (train_output.expected == 0)]\n",
    "    correct = len(true_pos) + len(true_neg)\n",
    "    accuracy = (correct/len(train_output))*100\n",
    "\n",
    "    return accuracy"
   ]
  },
  {
   "cell_type": "code",
   "execution_count": 16,
   "metadata": {},
   "outputs": [
    {
     "name": "stdout",
     "output_type": "stream",
     "text": [
      "For threshold of 0.100000, training accuracy is 60.0\n",
      "For threshold of 0.200000, training accuracy is 60.0\n",
      "For threshold of 0.300000, training accuracy is 66.66666666666666\n",
      "For threshold of 0.400000, training accuracy is 66.66666666666666\n",
      "For threshold of 0.500000, training accuracy is 73.33333333333333\n",
      "For threshold of 0.600000, training accuracy is 73.33333333333333\n",
      "For threshold of 0.700000, training accuracy is 76.66666666666667\n",
      "For threshold of 0.800000, training accuracy is 40.0\n",
      "For threshold of 0.900000, training accuracy is 40.0\n"
     ]
    }
   ],
   "source": [
    "for i in range(1,10):\n",
    "    print(\"For threshold of {:1f}, training accuracy is {}\".format(0.1*i,accuracy(feature,train_expected,w,0.2,0.1*i)))"
   ]
  },
  {
   "cell_type": "code",
   "execution_count": null,
   "metadata": {},
   "outputs": [],
   "source": [
    "x = np.arange(0,len(cost))\n",
    "\n",
    "plt.title('Logistic Regression Cost Function')\n",
    "plt.xlabel('Number of iterations')\n",
    "plt.ylabel('Cost Function')\n",
    "\n",
    "plt.plot(x,cost)\n",
    "# plt.savefig('lr_costfunction_10000.png',bbox_inches='tight',dpi=300)\n",
    "plt.show()"
   ]
  },
  {
   "cell_type": "markdown",
   "metadata": {},
   "source": [
    "### Test logistic regression model with a test sample"
   ]
  },
  {
   "cell_type": "code",
   "execution_count": 18,
   "metadata": {},
   "outputs": [
    {
     "name": "stdout",
     "output_type": "stream",
     "text": [
      "For threshold of 0.100000, test accuracy is 25.0\n",
      "For threshold of 0.200000, test accuracy is 33.33333333333333\n",
      "For threshold of 0.300000, test accuracy is 33.33333333333333\n",
      "For threshold of 0.400000, test accuracy is 33.33333333333333\n",
      "For threshold of 0.500000, test accuracy is 33.33333333333333\n",
      "For threshold of 0.600000, test accuracy is 66.66666666666666\n",
      "For threshold of 0.700000, test accuracy is 91.66666666666666\n",
      "For threshold of 0.800000, test accuracy is 75.0\n",
      "For threshold of 0.900000, test accuracy is 75.0\n"
     ]
    }
   ],
   "source": [
    "#change into feature array\n",
    "test = np.ones((len(test_set),num_features))\n",
    "test[:,1:] = test_set[['R','G','B']].to_numpy(dtype=float)\n",
    "\n",
    "for i in range(1,10):\n",
    "    print(\"For threshold of {:1f}, test accuracy is {}\".format(0.1*i,accuracy(test,test_expected,w,0.2,0.1*i)))"
   ]
  }
 ],
 "metadata": {
  "kernelspec": {
   "display_name": "Python 3",
   "language": "python",
   "name": "python3"
  },
  "language_info": {
   "codemirror_mode": {
    "name": "ipython",
    "version": 3
   },
   "file_extension": ".py",
   "mimetype": "text/x-python",
   "name": "python",
   "nbconvert_exporter": "python",
   "pygments_lexer": "ipython3",
   "version": "3.8.3"
  }
 },
 "nbformat": 4,
 "nbformat_minor": 4
}
