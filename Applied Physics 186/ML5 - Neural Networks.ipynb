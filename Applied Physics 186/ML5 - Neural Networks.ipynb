{
 "cells": [
  {
   "cell_type": "code",
   "execution_count": 1,
   "metadata": {},
   "outputs": [],
   "source": [
    "import pandas as pd\n",
    "import numpy as np\n",
    "import matplotlib.pyplot as plt\n",
    "import seaborn as sns\n",
    "\n",
    "sns.set_style(\"darkgrid\")"
   ]
  },
  {
   "cell_type": "markdown",
   "metadata": {},
   "source": [
    "## Neural Network for Classification"
   ]
  },
  {
   "cell_type": "code",
   "execution_count": 2,
   "metadata": {},
   "outputs": [],
   "source": [
    "# data = pd.read_excel('ML1_dataset.xlsx',sheet_name='ML3 - Banana')\n",
    "mango = pd.read_excel('ML1_dataset.xlsx',sheet_name='Class 1 - Mango')\n",
    "orange = pd.read_excel('ML1_dataset.xlsx',sheet_name='Class 2 - Orange')\n",
    "banana = pd.read_excel('ML1_dataset.xlsx',sheet_name='Class 3 - Banana')"
   ]
  },
  {
   "cell_type": "code",
   "execution_count": 3,
   "metadata": {},
   "outputs": [],
   "source": [
    "def hue(r,g,b):\n",
    "    R = r/255\n",
    "    G = g/255\n",
    "    B = b/255\n",
    "    \n",
    "    max_val = max(R,G,B)\n",
    "    min_val = min(R,G,B)\n",
    "    \n",
    "    if max_val == R:\n",
    "        hue = (G - B) / (max_val - min_val)\n",
    "    elif max_val == G:\n",
    "        hue = 2.0 + (B - R) / (max_val - min_val)\n",
    "    elif max_val == B:\n",
    "        hue = 4.0 + (R - G) / (max_val - min_val)   \n",
    "    else:\n",
    "        print(\"Hmmm, something wrong.\")\n",
    "    \n",
    "    if hue > 0:\n",
    "        return hue*60\n",
    "    else:\n",
    "        return hue + 360"
   ]
  },
  {
   "cell_type": "code",
   "execution_count": 4,
   "metadata": {},
   "outputs": [
    {
     "data": {
      "text/html": [
       "<div>\n",
       "<style scoped>\n",
       "    .dataframe tbody tr th:only-of-type {\n",
       "        vertical-align: middle;\n",
       "    }\n",
       "\n",
       "    .dataframe tbody tr th {\n",
       "        vertical-align: top;\n",
       "    }\n",
       "\n",
       "    .dataframe thead th {\n",
       "        text-align: right;\n",
       "    }\n",
       "</style>\n",
       "<table border=\"1\" class=\"dataframe\">\n",
       "  <thead>\n",
       "    <tr style=\"text-align: right;\">\n",
       "      <th></th>\n",
       "      <th>Image</th>\n",
       "      <th>R</th>\n",
       "      <th>G</th>\n",
       "      <th>B</th>\n",
       "      <th>StDev</th>\n",
       "      <th>Median</th>\n",
       "      <th>Skew</th>\n",
       "      <th>AR</th>\n",
       "      <th>Round</th>\n",
       "      <th>Hue</th>\n",
       "      <th>Class</th>\n",
       "    </tr>\n",
       "  </thead>\n",
       "  <tbody>\n",
       "    <tr>\n",
       "      <th>0</th>\n",
       "      <td>1</td>\n",
       "      <td>236.764</td>\n",
       "      <td>200.613</td>\n",
       "      <td>153.233</td>\n",
       "      <td>33.247</td>\n",
       "      <td>138</td>\n",
       "      <td>0.660</td>\n",
       "      <td>1.025</td>\n",
       "      <td>0.976</td>\n",
       "      <td>34.032874</td>\n",
       "      <td>orange</td>\n",
       "    </tr>\n",
       "    <tr>\n",
       "      <th>1</th>\n",
       "      <td>2</td>\n",
       "      <td>245.911</td>\n",
       "      <td>266.276</td>\n",
       "      <td>179.424</td>\n",
       "      <td>37.526</td>\n",
       "      <td>156</td>\n",
       "      <td>0.758</td>\n",
       "      <td>1.010</td>\n",
       "      <td>0.990</td>\n",
       "      <td>74.068761</td>\n",
       "      <td>orange</td>\n",
       "    </tr>\n",
       "    <tr>\n",
       "      <th>2</th>\n",
       "      <td>3</td>\n",
       "      <td>116.534</td>\n",
       "      <td>109.282</td>\n",
       "      <td>18.273</td>\n",
       "      <td>28.342</td>\n",
       "      <td>115</td>\n",
       "      <td>0.587</td>\n",
       "      <td>1.681</td>\n",
       "      <td>0.595</td>\n",
       "      <td>55.571793</td>\n",
       "      <td>orange</td>\n",
       "    </tr>\n",
       "    <tr>\n",
       "      <th>3</th>\n",
       "      <td>4</td>\n",
       "      <td>220.972</td>\n",
       "      <td>215.616</td>\n",
       "      <td>191.501</td>\n",
       "      <td>32.131</td>\n",
       "      <td>147</td>\n",
       "      <td>0.943</td>\n",
       "      <td>1.130</td>\n",
       "      <td>0.885</td>\n",
       "      <td>49.095721</td>\n",
       "      <td>orange</td>\n",
       "    </tr>\n",
       "    <tr>\n",
       "      <th>4</th>\n",
       "      <td>5</td>\n",
       "      <td>249.121</td>\n",
       "      <td>206.316</td>\n",
       "      <td>122.162</td>\n",
       "      <td>20.441</td>\n",
       "      <td>151</td>\n",
       "      <td>1.635</td>\n",
       "      <td>1.037</td>\n",
       "      <td>0.965</td>\n",
       "      <td>39.770635</td>\n",
       "      <td>orange</td>\n",
       "    </tr>\n",
       "  </tbody>\n",
       "</table>\n",
       "</div>"
      ],
      "text/plain": [
       "   Image        R        G        B   StDev  Median   Skew     AR  Round  \\\n",
       "0      1  236.764  200.613  153.233  33.247     138  0.660  1.025  0.976   \n",
       "1      2  245.911  266.276  179.424  37.526     156  0.758  1.010  0.990   \n",
       "2      3  116.534  109.282   18.273  28.342     115  0.587  1.681  0.595   \n",
       "3      4  220.972  215.616  191.501  32.131     147  0.943  1.130  0.885   \n",
       "4      5  249.121  206.316  122.162  20.441     151  1.635  1.037  0.965   \n",
       "\n",
       "         Hue   Class  \n",
       "0  34.032874  orange  \n",
       "1  74.068761  orange  \n",
       "2  55.571793  orange  \n",
       "3  49.095721  orange  \n",
       "4  39.770635  orange  "
      ]
     },
     "execution_count": 4,
     "metadata": {},
     "output_type": "execute_result"
    }
   ],
   "source": [
    "#create hue column\n",
    "mango['Hue'] = mango.apply(lambda x: hue(x['R'],x['G'],x['B']),axis=1)\n",
    "orange['Hue'] = orange.apply(lambda x: hue(x['R'],x['G'],x['B']),axis=1)\n",
    "banana['Hue'] = banana.apply(lambda x: hue(x['R'],x['G'],x['B']),axis=1)\n",
    "\n",
    "#create label for plotting\n",
    "mango['Class'] = 'mango'\n",
    "orange['Class'] = 'orange'\n",
    "banana['Class'] = 'banana'\n",
    "\n",
    "orange.head()"
   ]
  },
  {
   "cell_type": "markdown",
   "metadata": {},
   "source": [
    "### Activation Functions\n",
    "We define some of the activation functions we're going to use, along with their derivative functions."
   ]
  },
  {
   "cell_type": "code",
   "execution_count": 5,
   "metadata": {},
   "outputs": [],
   "source": [
    "def sigmoid(z,beta):\n",
    "    sigmoid = (1 / (1 + np.exp(-beta*z)))\n",
    "    return sigmoid\n",
    "\n",
    "def dsigmoid(z,beta):\n",
    "    dsigmoid = sigmoid(z,beta) * (1 - sigmoid(z,beta))\n",
    "    return dsigmoid\n",
    "\n",
    "def relu(z):\n",
    "    z[np.where(z<0)] = 0\n",
    "    return z\n",
    "\n",
    "def drelu(z):\n",
    "    z[np.where(z<0)] = 0\n",
    "    z[np.where(z>0)] = 1\n",
    "    return z\n",
    "\n",
    "def tanh(z):\n",
    "    return np.tanh(z)\n",
    "\n",
    "def dtanh(z):\n",
    "    return (1 + (tanh(z))**2)\n",
    "\n",
    "def linear(z):\n",
    "    return z\n",
    "\n",
    "def dlinear(z):\n",
    "    return 1"
   ]
  },
  {
   "cell_type": "markdown",
   "metadata": {},
   "source": [
    "### Initialization and Linear --> Activation \n",
    "We provide functions to initialize our weights and another function to complete the step of linear computation and the application of the activation function"
   ]
  },
  {
   "cell_type": "code",
   "execution_count": 6,
   "metadata": {},
   "outputs": [],
   "source": [
    "def initialize_params(num_hidden,num_input):\n",
    "    #initialize weight\n",
    "    w = np.random.randn(num_hidden,num_input)\n",
    "    return w\n",
    "\n",
    "def linear_activation(X,w,activation,beta): \n",
    "    #calculate for the linear relation\n",
    "    z = np.dot(X,w.T)\n",
    "\n",
    "    #apply activation function\n",
    "    if activation=='sigmoid':\n",
    "        a = sigmoid(z,beta)\n",
    "    elif activation=='relu':\n",
    "        a = relu(z)\n",
    "    elif activation=='linear':\n",
    "        a = linear(z)\n",
    "    elif activation=='tanh':\n",
    "        a = tanh(z)\n",
    "    else:\n",
    "        print('Only sigmoid,relu,linear or tanh for activation.')\n",
    "        \n",
    "    return z,a\n",
    "\n",
    "def gradient_backward(z,activation,beta):\n",
    "    \n",
    "    if activation=='relu':\n",
    "        return drelu(z)\n",
    "    \n",
    "    elif activation=='sigmoid':\n",
    "        return dsigmoid(z,beta)\n",
    "    \n",
    "    elif activation=='linear':\n",
    "        return dlinear(z)\n",
    "    \n",
    "    elif activation=='tanh':\n",
    "        return dtanh(z)\n",
    "    \n",
    "    else:\n",
    "        print('Only sigmoid,relu,linear or tanh for activation.')"
   ]
  },
  {
   "cell_type": "markdown",
   "metadata": {},
   "source": [
    "### Split Dataset into Train and Test sets"
   ]
  },
  {
   "cell_type": "code",
   "execution_count": 7,
   "metadata": {},
   "outputs": [],
   "source": [
    "def feature_class(class1,class2,num_train):\n",
    "    class1['Label'] = 1\n",
    "    class2['Label'] = 0\n",
    "    \n",
    "    feature_input = pd.concat([class1,class2],axis=0,ignore_index=True)\n",
    "    skew_min, skew_max = feature_input['Skew'].min(), feature_input['Skew'].max()\n",
    "    feature_input['Skew'] = (feature_input['Skew']-skew_min) / (skew_max-skew_min)\n",
    "    feature_input['StDev'] = feature_input['StDev']/feature_input['StDev'].max()\n",
    "    \n",
    "    #create training set\n",
    "    train_set_pd = feature_input.sample(num_train)\n",
    "    train_expected = np.array(train_set_pd['Label']).reshape(-1,1)\n",
    "    \n",
    "    train_set = np.ones((num_train,4))\n",
    "    train_set[:,1:] = train_set_pd[['Skew','StDev','Round']].to_numpy(dtype=float)\n",
    "    \n",
    "    #create test set\n",
    "    test_set_pd = feature_input.drop(train_set_pd.index,axis=0)\n",
    "    test_expected = np.array(test_set_pd['Label']).reshape(-1,1)\n",
    "    \n",
    "    test_set = np.ones((len(test_set_pd),4))\n",
    "    test_set[:,1:] = test_set_pd[['Skew','StDev','Round']].to_numpy(dtype=float)\n",
    "    \n",
    "    return train_set, train_expected, test_set, test_expected"
   ]
  },
  {
   "cell_type": "code",
   "execution_count": 8,
   "metadata": {},
   "outputs": [
    {
     "name": "stdout",
     "output_type": "stream",
     "text": [
      "Train dataset: (30, 4)\n",
      "Test dataset: (12, 4)\n"
     ]
    }
   ],
   "source": [
    "train_set_mo,train_expected_mo,test_set_mo,test_expected_mo = feature_class(mango,orange,30)\n",
    "train_set_mb,train_expected_mb,test_set_mb,test_expected_mb = feature_class(mango,banana,30)\n",
    "train_set_bo,train_expected_bo,test_set_bo,test_expected_bo = feature_class(banana,orange,30)\n",
    "\n",
    "print('Train dataset:',train_set_mo.shape)\n",
    "print('Test dataset:',test_set_mo.shape)"
   ]
  },
  {
   "cell_type": "markdown",
   "metadata": {},
   "source": [
    "### 2-Layer Neural Network"
   ]
  },
  {
   "cell_type": "code",
   "execution_count": 9,
   "metadata": {},
   "outputs": [],
   "source": [
    "def neural_network(features,expected,activation_1,activation_2,beta,n_f,n_h,n_o,num_iterations,lc_rate_1,lc_rate_2):\n",
    "    \n",
    "    #initialize weights\n",
    "    w1 = initialize_params(n_h,n_f) \n",
    "    w2 = initialize_params(n_o,n_h) \n",
    "    \n",
    "    cost = []\n",
    "    for i in range(num_iterations):\n",
    "        \n",
    "        z1, a1 = linear_activation(features,w1,activation_1,beta)\n",
    "        z2, a2 = linear_activation(a1,w2,activation_2,beta)\n",
    "        \n",
    "        cost_func = 0.5*np.sum((a2-expected)**2)\n",
    "        cost.append(cost_func)\n",
    "\n",
    "        #compute error of each output\n",
    "        error_out = np.multiply(gradient_backward(z2,activation_2,beta),(a2-expected))\n",
    "        \n",
    "        #compute errors for hidden units\n",
    "        error_hid = np.multiply(gradient_backward(z1,activation_1,beta),np.dot(error_out,w2))\n",
    "        \n",
    "        #error derivatives\n",
    "        error_div_2 = np.dot(error_out.T,a1)           \n",
    "        error_div_1 = np.dot(error_hid.T,features)\n",
    "        \n",
    "        #update weights using gradient descent\n",
    "        w1 -= lc_rate_1*error_div_1\n",
    "        w2 -= lc_rate_2*error_div_2\n",
    "\n",
    "    params = {'w1':w1,'w2':w2,'cost':cost}\n",
    "        \n",
    "    return params"
   ]
  },
  {
   "cell_type": "code",
   "execution_count": 10,
   "metadata": {
    "scrolled": true
   },
   "outputs": [],
   "source": [
    "act1, act2, beta, hidden, iterations, lc1, lc2 = 'linear', 'sigmoid', 0.5, 10, 10000, 0.01, 0.01\n",
    "params_mo = neural_network(train_set_mo,train_expected_mo,act1,act2,beta,train_set_mo.shape[1],hidden,1,iterations,lc1,lc2)\n",
    "params_mb = neural_network(train_set_mb,train_expected_mb,act1,act2,beta,train_set_mb.shape[1],hidden,1,iterations,lc1,lc2)\n",
    "params_bo = neural_network(train_set_bo,train_expected_bo,act1,act2,beta,train_set_bo.shape[1],hidden,1,iterations,lc1,lc2)"
   ]
  },
  {
   "cell_type": "markdown",
   "metadata": {},
   "source": [
    "Encountering overflow error. I guess, the sum of squares error (SSE) is not an overall efficient cost function since the values keeps getting bigger with no minimization. There also seemed to be more than one minima after n iterations."
   ]
  },
  {
   "cell_type": "markdown",
   "metadata": {},
   "source": [
    "### Plot cost functions of the NN model"
   ]
  },
  {
   "cell_type": "code",
   "execution_count": 11,
   "metadata": {},
   "outputs": [],
   "source": [
    "def cost_plot(params,c1,c2,savename):\n",
    "\n",
    "    x_range = np.arange(0,len(params['cost']))\n",
    "\n",
    "    plt.title('2-Layer Neural Network Cost Function for {}-{}'.format(c1,c2))\n",
    "    plt.xlabel('Number of iterations')\n",
    "    plt.ylabel('Cost Function')\n",
    "\n",
    "    plt.plot(x_range,params['cost'])\n",
    "    plt.savefig(savename,bbox_inches='tight',dpi=300)\n",
    "    plt.show()"
   ]
  },
  {
   "cell_type": "code",
   "execution_count": 12,
   "metadata": {},
   "outputs": [
    {
     "data": {
      "image/png": "[encoded data removed]",
      "text/plain": [
       "<Figure size 432x288 with 1 Axes>"
      ]
     },
     "metadata": {},
     "output_type": "display_data"
    },
    {
     "data": {
      "image/png": "[encoded data removed]",
      "text/plain": [
       "<Figure size 432x288 with 1 Axes>"
      ]
     },
     "metadata": {},
     "output_type": "display_data"
    },
    {
     "data": {
      "image/png": "[encoded data removed]",
      "text/plain": [
       "<Figure size 432x288 with 1 Axes>"
      ]
     },
     "metadata": {},
     "output_type": "display_data"
    }
   ],
   "source": [
    "cost_plot(params_mo,'Mango','Orange','nn_costfunction_mo.png')\n",
    "cost_plot(params_mb,'Mango','Banana','nn_costfunction_mb.png')\n",
    "cost_plot(params_bo,'Banana','Orange','nn_costfunction_bo.png')"
   ]
  },
  {
   "cell_type": "markdown",
   "metadata": {},
   "source": [
    "### Train accuracy of the model\n",
    "I was told that accuracy is not needed if the output is NOT BINARY. Also, we shouldn't generalize the prediction by imposing a threshold of 0.5 for a sigmoid!"
   ]
  },
  {
   "cell_type": "code",
   "execution_count": 18,
   "metadata": {},
   "outputs": [],
   "source": [
    "def accuracy(params,train_set,train_expected,activation_1,activation_2,beta,threshold):\n",
    "    \n",
    "    w1, w2 = params['w1'], params['w2']\n",
    "\n",
    "    z1_train, a1_train = linear_activation(train_set,w1,activation_1,beta)\n",
    "    z2_train, a2_train = linear_activation(a1_train,w2,activation_2,beta)\n",
    "\n",
    "    train_output = pd.DataFrame([a2_train.flatten(),train_expected.flatten()],index=['predicted','expected']).T\n",
    "    true_pos = train_output[(train_output.predicted > threshold) & (train_output.expected == 1)]\n",
    "    true_neg = train_output[(train_output.predicted < threshold) & (train_output.expected == 0)]\n",
    "    correct = len(true_pos) + len(true_neg)\n",
    "    accuracy = (correct/len(train_output))*100\n",
    "\n",
    "    return accuracy"
   ]
  },
  {
   "cell_type": "code",
   "execution_count": 26,
   "metadata": {},
   "outputs": [
    {
     "name": "stdout",
     "output_type": "stream",
     "text": [
      "Mango-Orange Model Training Accuracy\n",
      "For threshold of 0.100000, accuracy is 53.333333333333336\n",
      "For threshold of 0.200000, accuracy is 66.66666666666666\n",
      "For threshold of 0.300000, accuracy is 73.33333333333333\n",
      "For threshold of 0.400000, accuracy is 83.33333333333334\n",
      "For threshold of 0.500000, accuracy is 83.33333333333334\n",
      "For threshold of 0.600000, accuracy is 83.33333333333334\n",
      "For threshold of 0.700000, accuracy is 80.0\n",
      "For threshold of 0.800000, accuracy is 76.66666666666667\n",
      "For threshold of 0.900000, accuracy is 60.0\n",
      "Mango-Banana Model Training Accuracy\n",
      "For threshold of 0.100000, accuracy is 73.33333333333333\n",
      "For threshold of 0.200000, accuracy is 76.66666666666667\n",
      "For threshold of 0.300000, accuracy is 86.66666666666667\n",
      "For threshold of 0.400000, accuracy is 93.33333333333333\n",
      "For threshold of 0.500000, accuracy is 90.0\n",
      "For threshold of 0.600000, accuracy is 93.33333333333333\n",
      "For threshold of 0.700000, accuracy is 86.66666666666667\n",
      "For threshold of 0.800000, accuracy is 80.0\n",
      "For threshold of 0.900000, accuracy is 73.33333333333333\n",
      "Banana-Orange Model Training Accuracy\n",
      "For threshold of 0.100000, accuracy is 90.0\n",
      "For threshold of 0.200000, accuracy is 93.33333333333333\n",
      "For threshold of 0.300000, accuracy is 100.0\n",
      "For threshold of 0.400000, accuracy is 100.0\n",
      "For threshold of 0.500000, accuracy is 100.0\n",
      "For threshold of 0.600000, accuracy is 100.0\n",
      "For threshold of 0.700000, accuracy is 100.0\n",
      "For threshold of 0.800000, accuracy is 90.0\n",
      "For threshold of 0.900000, accuracy is 83.33333333333334\n"
     ]
    }
   ],
   "source": [
    "act1, act2, beta = 'linear', 'sigmoid', 0.2\n",
    "\n",
    "print(\"Mango-Orange Model Training Accuracy\")\n",
    "for i in range(1,10):\n",
    "    print(\"For threshold of {:1f}, accuracy is {}\"\\\n",
    "          .format(0.1*i,accuracy(params_mo,train_set_mo,train_expected_mo,act1,act2,beta,0.1*i)))\n",
    "\n",
    "print(\"Mango-Banana Model Training Accuracy\")\n",
    "for i in range(1,10):\n",
    "    print(\"For threshold of {:1f}, accuracy is {}\"\\\n",
    "          .format(0.1*i,accuracy(params_mb,train_set_mb,train_expected_mb,act1,act2,beta,0.1*i)))\n",
    "\n",
    "print(\"Banana-Orange Model Training Accuracy\")\n",
    "for i in range(1,10):\n",
    "    print(\"For threshold of {:1f}, accuracy is {}\"\\\n",
    "          .format(0.1*i,accuracy(params_bo,train_set_bo,train_expected_bo,act1,act2,beta,0.1*i)))"
   ]
  },
  {
   "cell_type": "markdown",
   "metadata": {},
   "source": [
    "### Test accuracy of the model\n",
    "I was told that accuracy is not needed if the output is NOT BINARY. Also, we shouldn't generalize the prediction by imposing a threshold of 0.5 for a sigmoid!"
   ]
  },
  {
   "cell_type": "code",
   "execution_count": 27,
   "metadata": {},
   "outputs": [
    {
     "name": "stdout",
     "output_type": "stream",
     "text": [
      "Mango-Orange Model Test Accuracy\n",
      "For threshold of 0.100000, accuracy is 58.333333333333336\n",
      "For threshold of 0.200000, accuracy is 66.66666666666666\n",
      "For threshold of 0.300000, accuracy is 83.33333333333334\n",
      "For threshold of 0.400000, accuracy is 91.66666666666666\n",
      "For threshold of 0.500000, accuracy is 83.33333333333334\n",
      "For threshold of 0.600000, accuracy is 83.33333333333334\n",
      "For threshold of 0.700000, accuracy is 91.66666666666666\n",
      "For threshold of 0.800000, accuracy is 83.33333333333334\n",
      "For threshold of 0.900000, accuracy is 83.33333333333334\n",
      "Mango-Banana Model Test Accuracy\n",
      "For threshold of 0.100000, accuracy is 66.66666666666666\n",
      "For threshold of 0.200000, accuracy is 83.33333333333334\n",
      "For threshold of 0.300000, accuracy is 91.66666666666666\n",
      "For threshold of 0.400000, accuracy is 91.66666666666666\n",
      "For threshold of 0.500000, accuracy is 75.0\n",
      "For threshold of 0.600000, accuracy is 75.0\n",
      "For threshold of 0.700000, accuracy is 83.33333333333334\n",
      "For threshold of 0.800000, accuracy is 75.0\n",
      "For threshold of 0.900000, accuracy is 75.0\n",
      "Banana-Orange Model Test Accuracy\n",
      "For threshold of 0.100000, accuracy is 83.33333333333334\n",
      "For threshold of 0.200000, accuracy is 100.0\n",
      "For threshold of 0.300000, accuracy is 100.0\n",
      "For threshold of 0.400000, accuracy is 100.0\n",
      "For threshold of 0.500000, accuracy is 100.0\n",
      "For threshold of 0.600000, accuracy is 91.66666666666666\n",
      "For threshold of 0.700000, accuracy is 91.66666666666666\n",
      "For threshold of 0.800000, accuracy is 91.66666666666666\n",
      "For threshold of 0.900000, accuracy is 91.66666666666666\n"
     ]
    }
   ],
   "source": [
    "print(\"Mango-Orange Model Test Accuracy\")\n",
    "for i in range(1,10):\n",
    "    print(\"For threshold of {:1f}, accuracy is {}\"\\\n",
    "          .format(0.1*i,accuracy(params_mo,test_set_mo,test_expected_mo,act1,act2,beta,0.1*i)))\n",
    "    \n",
    "print(\"Mango-Banana Model Test Accuracy\")\n",
    "for i in range(1,10):\n",
    "    print(\"For threshold of {:1f}, accuracy is {}\"\\\n",
    "          .format(0.1*i,accuracy(params_mb,test_set_mb,test_expected_mb,act1,act2,beta,0.1*i)))\n",
    "\n",
    "print(\"Banana-Orange Model Test Accuracy\")\n",
    "for i in range(1,10):\n",
    "    print(\"For threshold of {:1f}, accuracy is {}\"\\\n",
    "          .format(0.1*i,accuracy(params_bo,test_set_bo,test_expected_bo,act1,act2,beta,0.1*i)))"
   ]
  },
  {
   "cell_type": "markdown",
   "metadata": {},
   "source": [
    "## Neural Network for Curve Fitting"
   ]
  },
  {
   "cell_type": "code",
   "execution_count": 348,
   "metadata": {},
   "outputs": [],
   "source": [
    "def function(f,N,x_min,x_max):\n",
    "    \n",
    "    x = (np.linspace(x_min,x_max,N)).reshape(1,-1)          \n",
    "    X = np.ones((N,2))\n",
    "    X[:,1] = x\n",
    "    \n",
    "    if f=='sine':\n",
    "        y = (np.sin(2*np.pi*x)+1).reshape(-1,1)\n",
    "        Y = y/max(y)\n",
    "    elif f=='parabola':\n",
    "        Y = (x**2).reshape(-1,1)\n",
    "    else:\n",
    "        None\n",
    "    \n",
    "    return X, Y"
   ]
  },
  {
   "cell_type": "markdown",
   "metadata": {},
   "source": [
    "### Using Neural Network Model to Predict for Sine Function"
   ]
  },
  {
   "cell_type": "code",
   "execution_count": 402,
   "metadata": {},
   "outputs": [
    {
     "data": {
      "image/png": "[encoded data removed]",
      "text/plain": [
       "<Figure size 432x288 with 1 Axes>"
      ]
     },
     "metadata": {},
     "output_type": "display_data"
    },
    {
     "data": {
      "image/png": "[encoded data removed]",
      "text/plain": [
       "<Figure size 432x288 with 1 Axes>"
      ]
     },
     "metadata": {},
     "output_type": "display_data"
    }
   ],
   "source": [
    "#learn weights\n",
    "beta_sine = 0.5\n",
    "X_sine, Y_sine = function('sine',100,0,1)\n",
    "sine = neural_network(X_sine,Y_sine,'sigmoid','sigmoid',beta_sine,X_sine.shape[1],10,1,10000,0.3,0.3)\n",
    "\n",
    "w1_sine = sine['w1'] \n",
    "w2_sine = sine['w2']\n",
    "\n",
    "z1_sine, a1_sine = linear_activation(X_sine,w1_sine,'sigmoid',beta_sine)\n",
    "z2_sine, a2_sine = linear_activation(a1_sine,w2_sine,'sigmoid',beta_sine)\n",
    "\n",
    "#plot cost function\n",
    "plt.title('2-Layer Neural Network Cost Function')\n",
    "plt.xlabel('Number of iterations')\n",
    "plt.ylabel('Cost Function')\n",
    "\n",
    "plt.plot(np.arange(0,len(sine['cost'])),sine['cost'])\n",
    "plt.savefig('nn_sinecostfunction.png',bbox_inches='tight',dpi=300)\n",
    "plt.show()\n",
    "\n",
    "#plot predicted function\n",
    "plt.plot(X_sine[:,1].flatten(),Y_sine.flatten(),color='red',label='expected')\n",
    "plt.plot(X_sine[:,1].flatten(),a2_sine.flatten(),label='predicted')\n",
    "\n",
    "plt.xlabel('x')\n",
    "plt.ylabel('sine')\n",
    "plt.title('2-Layer Neural Network Sine Function Prediction')\n",
    "plt.legend(loc='upper right')\n",
    "\n",
    "plt.savefig('sine_predict.png',bbox_inches='tight',dpi=300)\n",
    "plt.show()"
   ]
  },
  {
   "cell_type": "markdown",
   "metadata": {},
   "source": [
    "### Using Neural Network Model to Predict for Parabola Function"
   ]
  },
  {
   "cell_type": "code",
   "execution_count": 388,
   "metadata": {},
   "outputs": [
    {
     "data": {
      "image/png": "[encoded data removed]",
      "text/plain": [
       "<Figure size 432x288 with 1 Axes>"
      ]
     },
     "metadata": {},
     "output_type": "display_data"
    },
    {
     "data": {
      "image/png": "[encoded data removed]",
      "text/plain": [
       "<Figure size 432x288 with 1 Axes>"
      ]
     },
     "metadata": {},
     "output_type": "display_data"
    }
   ],
   "source": [
    "#learn weights\n",
    "beta_par = 0.2\n",
    "X_para, Y_para = function('parabola',200,-1,1)\n",
    "para = neural_network(X_para,Y_para,'sigmoid','sigmoid',beta_par,X_para.shape[1],20,1,10000,0.4,0.4)\n",
    "\n",
    "w1_para = para['w1'] \n",
    "w2_para = para['w2']\n",
    "\n",
    "z1_para, a1_para = linear_activation(X_para,w1_para,'sigmoid',beta_par)\n",
    "z2_para, a2_para = linear_activation(a1_para,w2_para,'sigmoid',beta_par)\n",
    "\n",
    "#plot cost function\n",
    "plt.title('2-Layer Neural Network Cost Function')\n",
    "plt.xlabel('Number of iterations')\n",
    "plt.ylabel('Cost Function')\n",
    "\n",
    "plt.plot(np.arange(0,len(para['cost'])),para['cost'])\n",
    "plt.savefig('nn_paracostfunction.png',bbox_inches='tight',dpi=300)\n",
    "plt.show()\n",
    "\n",
    "#plot predicted function\n",
    "plt.plot(X_para[:,1].flatten(),Y_para.flatten(),color='red',label='expected')\n",
    "plt.plot(X_para[:,1].flatten(),a2_para.flatten(),label='predicted')\n",
    "\n",
    "plt.xlabel('x')\n",
    "plt.ylabel('parabola')\n",
    "plt.title('2-Layer Neural Network Parabola Function Prediction')\n",
    "plt.legend(loc='lower right')\n",
    "\n",
    "plt.savefig('para_predict.png',bbox_inches='tight',dpi=300)\n",
    "plt.show()"
   ]
  },
  {
   "cell_type": "code",
   "execution_count": null,
   "metadata": {},
   "outputs": [],
   "source": []
  }
 ],
 "metadata": {
  "kernelspec": {
   "display_name": "Python 3",
   "language": "python",
   "name": "python3"
  },
  "language_info": {
   "codemirror_mode": {
    "name": "ipython",
    "version": 3
   },
   "file_extension": ".py",
   "mimetype": "text/x-python",
   "name": "python",
   "nbconvert_exporter": "python",
   "pygments_lexer": "ipython3",
   "version": "3.8.3"
  }
 },
 "nbformat": 4,
 "nbformat_minor": 4
}
